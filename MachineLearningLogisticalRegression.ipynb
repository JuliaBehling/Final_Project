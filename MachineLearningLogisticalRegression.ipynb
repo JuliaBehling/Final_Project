{
 "cells": [
  {
   "cell_type": "code",
   "execution_count": 1,
   "id": "a422fa6f",
   "metadata": {},
   "outputs": [],
   "source": [
    "# Initial imports\n",
    "import pandas as pd\n",
    "from pathlib import Path\n",
    "from sklearn.model_selection import train_test_split\n",
    "from sklearn.linear_model import LogisticRegression\n",
    "from sklearn.metrics import accuracy_score\n",
    "from sklearn.metrics import confusion_matrix, classification_report"
   ]
  },
  {
   "cell_type": "code",
   "execution_count": 3,
   "id": "69cef79f",
   "metadata": {},
   "outputs": [
    {
     "data": {
      "text/html": [
       "<div>\n",
       "<style scoped>\n",
       "    .dataframe tbody tr th:only-of-type {\n",
       "        vertical-align: middle;\n",
       "    }\n",
       "\n",
       "    .dataframe tbody tr th {\n",
       "        vertical-align: top;\n",
       "    }\n",
       "\n",
       "    .dataframe thead th {\n",
       "        text-align: right;\n",
       "    }\n",
       "</style>\n",
       "<table border=\"1\" class=\"dataframe\">\n",
       "  <thead>\n",
       "    <tr style=\"text-align: right;\">\n",
       "      <th></th>\n",
       "      <th>fire_size</th>\n",
       "      <th>fire_size_class</th>\n",
       "      <th>Vegetation</th>\n",
       "      <th>Temp_pre_30</th>\n",
       "      <th>Wind_pre_30</th>\n",
       "      <th>Hum_pre_30</th>\n",
       "      <th>Prec_pre_30</th>\n",
       "      <th>remoteness</th>\n",
       "    </tr>\n",
       "  </thead>\n",
       "  <tbody>\n",
       "    <tr>\n",
       "      <th>0</th>\n",
       "      <td>10.0</td>\n",
       "      <td>C</td>\n",
       "      <td>12</td>\n",
       "      <td>24.480974</td>\n",
       "      <td>4.341807</td>\n",
       "      <td>78.216590</td>\n",
       "      <td>0.0</td>\n",
       "      <td>0.017923</td>\n",
       "    </tr>\n",
       "    <tr>\n",
       "      <th>1</th>\n",
       "      <td>3.0</td>\n",
       "      <td>B</td>\n",
       "      <td>15</td>\n",
       "      <td>7.553433</td>\n",
       "      <td>2.709764</td>\n",
       "      <td>70.840000</td>\n",
       "      <td>59.8</td>\n",
       "      <td>0.184355</td>\n",
       "    </tr>\n",
       "    <tr>\n",
       "      <th>2</th>\n",
       "      <td>60.0</td>\n",
       "      <td>C</td>\n",
       "      <td>16</td>\n",
       "      <td>4.971930</td>\n",
       "      <td>3.364499</td>\n",
       "      <td>75.531629</td>\n",
       "      <td>168.8</td>\n",
       "      <td>0.194544</td>\n",
       "    </tr>\n",
       "    <tr>\n",
       "      <th>3</th>\n",
       "      <td>1.0</td>\n",
       "      <td>B</td>\n",
       "      <td>0</td>\n",
       "      <td>16.275967</td>\n",
       "      <td>4.054982</td>\n",
       "      <td>44.778429</td>\n",
       "      <td>10.4</td>\n",
       "      <td>0.487447</td>\n",
       "    </tr>\n",
       "    <tr>\n",
       "      <th>4</th>\n",
       "      <td>2.0</td>\n",
       "      <td>B</td>\n",
       "      <td>12</td>\n",
       "      <td>-1.000000</td>\n",
       "      <td>-1.000000</td>\n",
       "      <td>-1.000000</td>\n",
       "      <td>-1.0</td>\n",
       "      <td>0.214633</td>\n",
       "    </tr>\n",
       "  </tbody>\n",
       "</table>\n",
       "</div>"
      ],
      "text/plain": [
       "   fire_size fire_size_class  Vegetation  Temp_pre_30  Wind_pre_30  \\\n",
       "0       10.0               C          12    24.480974     4.341807   \n",
       "1        3.0               B          15     7.553433     2.709764   \n",
       "2       60.0               C          16     4.971930     3.364499   \n",
       "3        1.0               B           0    16.275967     4.054982   \n",
       "4        2.0               B          12    -1.000000    -1.000000   \n",
       "\n",
       "   Hum_pre_30  Prec_pre_30  remoteness  \n",
       "0   78.216590          0.0    0.017923  \n",
       "1   70.840000         59.8    0.184355  \n",
       "2   75.531629        168.8    0.194544  \n",
       "3   44.778429         10.4    0.487447  \n",
       "4   -1.000000         -1.0    0.214633  "
      ]
     },
     "execution_count": 3,
     "metadata": {},
     "output_type": "execute_result"
    }
   ],
   "source": [
    "# Load the data\n",
    "file_path = Path(\"Resources/FW_Veg_Rem_Combined.csv\")\n",
    "df_dataset1 = pd.read_csv(file_path)\n",
    "df_dataset1 = df_dataset1[[\"fire_size\",\"fire_size_class\",\"Vegetation\",\"Temp_pre_30\",\"Wind_pre_30\",\"Hum_pre_30\",\"Prec_pre_30\",\"remoteness\"]].copy()\n",
    "df_dataset1 = df_dataset1.dropna()\n",
    "df_dataset1.head()"
   ]
  },
  {
   "cell_type": "code",
   "execution_count": 4,
   "id": "ecbbf6d7",
   "metadata": {},
   "outputs": [
    {
     "data": {
      "text/html": [
       "<div>\n",
       "<style scoped>\n",
       "    .dataframe tbody tr th:only-of-type {\n",
       "        vertical-align: middle;\n",
       "    }\n",
       "\n",
       "    .dataframe tbody tr th {\n",
       "        vertical-align: top;\n",
       "    }\n",
       "\n",
       "    .dataframe thead th {\n",
       "        text-align: right;\n",
       "    }\n",
       "</style>\n",
       "<table border=\"1\" class=\"dataframe\">\n",
       "  <thead>\n",
       "    <tr style=\"text-align: right;\">\n",
       "      <th></th>\n",
       "      <th>X</th>\n",
       "      <th>Y</th>\n",
       "      <th>OBJECTID</th>\n",
       "      <th>NAME</th>\n",
       "      <th>CAD_NAME</th>\n",
       "      <th>AKA</th>\n",
       "      <th>TYPE</th>\n",
       "      <th>UNIT</th>\n",
       "      <th>COUNTY</th>\n",
       "      <th>OWNER</th>\n",
       "      <th>FUNDING</th>\n",
       "      <th>STAFFING</th>\n",
       "      <th>ADDRESS</th>\n",
       "      <th>CITY</th>\n",
       "      <th>ZIP</th>\n",
       "      <th>PHONE_NUM</th>\n",
       "      <th>LAT</th>\n",
       "      <th>LON</th>\n",
       "    </tr>\n",
       "  </thead>\n",
       "  <tbody>\n",
       "    <tr>\n",
       "      <th>0</th>\n",
       "      <td>256759.612298</td>\n",
       "      <td>-428927.360971</td>\n",
       "      <td>1</td>\n",
       "      <td>541</td>\n",
       "      <td>HIG 541</td>\n",
       "      <td>Highland</td>\n",
       "      <td>FSA</td>\n",
       "      <td>BDU</td>\n",
       "      <td>San Bernardino</td>\n",
       "      <td>CITY</td>\n",
       "      <td>A</td>\n",
       "      <td>V</td>\n",
       "      <td>26974 Baseline</td>\n",
       "      <td>Highland</td>\n",
       "      <td>92346</td>\n",
       "      <td>909-862-3031</td>\n",
       "      <td>34.121425</td>\n",
       "      <td>-117.216078</td>\n",
       "    </tr>\n",
       "    <tr>\n",
       "      <th>1</th>\n",
       "      <td>261958.958369</td>\n",
       "      <td>-428827.963225</td>\n",
       "      <td>2</td>\n",
       "      <td>542</td>\n",
       "      <td>HIG 542</td>\n",
       "      <td>East Highland</td>\n",
       "      <td>FSA</td>\n",
       "      <td>BDU</td>\n",
       "      <td>San Bernardino</td>\n",
       "      <td>CITY</td>\n",
       "      <td>A</td>\n",
       "      <td>P</td>\n",
       "      <td>29507 Baseline</td>\n",
       "      <td>Highland</td>\n",
       "      <td>92346</td>\n",
       "      <td>909-862-1760</td>\n",
       "      <td>34.120931</td>\n",
       "      <td>-117.159705</td>\n",
       "    </tr>\n",
       "    <tr>\n",
       "      <th>2</th>\n",
       "      <td>254252.194732</td>\n",
       "      <td>-429740.897461</td>\n",
       "      <td>3</td>\n",
       "      <td>543</td>\n",
       "      <td>HIG 543</td>\n",
       "      <td>Sterling</td>\n",
       "      <td>FSA</td>\n",
       "      <td>BDU</td>\n",
       "      <td>San Bernardino</td>\n",
       "      <td>CITY</td>\n",
       "      <td>A</td>\n",
       "      <td>P</td>\n",
       "      <td>7649 Sterling Ave</td>\n",
       "      <td>Highland</td>\n",
       "      <td>92410</td>\n",
       "      <td>909-884-4100</td>\n",
       "      <td>34.114755</td>\n",
       "      <td>-117.243506</td>\n",
       "    </tr>\n",
       "    <tr>\n",
       "      <th>3</th>\n",
       "      <td>273740.896608</td>\n",
       "      <td>-436732.555790</td>\n",
       "      <td>4</td>\n",
       "      <td>551</td>\n",
       "      <td>Yuc 551</td>\n",
       "      <td>Yucaipa</td>\n",
       "      <td>FSAB</td>\n",
       "      <td>BDU</td>\n",
       "      <td>San Bernardino</td>\n",
       "      <td>STATE</td>\n",
       "      <td>C</td>\n",
       "      <td>P</td>\n",
       "      <td>11416 Bryant St</td>\n",
       "      <td>Yucaipa</td>\n",
       "      <td>92399</td>\n",
       "      <td>909-797-1000</td>\n",
       "      <td>34.046457</td>\n",
       "      <td>-117.034721</td>\n",
       "    </tr>\n",
       "    <tr>\n",
       "      <th>4</th>\n",
       "      <td>268468.743671</td>\n",
       "      <td>-438277.850908</td>\n",
       "      <td>5</td>\n",
       "      <td>552</td>\n",
       "      <td>Yuc 552</td>\n",
       "      <td>Crafton</td>\n",
       "      <td>FSA</td>\n",
       "      <td>BDU</td>\n",
       "      <td>San Bernardino</td>\n",
       "      <td>CITY</td>\n",
       "      <td>A</td>\n",
       "      <td>P</td>\n",
       "      <td>32664 Yucaipa Bl</td>\n",
       "      <td>Yucaipa</td>\n",
       "      <td>92399</td>\n",
       "      <td>909-797-2313</td>\n",
       "      <td>34.034005</td>\n",
       "      <td>-117.092308</td>\n",
       "    </tr>\n",
       "  </tbody>\n",
       "</table>\n",
       "</div>"
      ],
      "text/plain": [
       "               X              Y  OBJECTID NAME CAD_NAME            AKA  TYPE  \\\n",
       "0  256759.612298 -428927.360971         1  541  HIG 541       Highland   FSA   \n",
       "1  261958.958369 -428827.963225         2  542  HIG 542  East Highland   FSA   \n",
       "2  254252.194732 -429740.897461         3  543  HIG 543       Sterling   FSA   \n",
       "3  273740.896608 -436732.555790         4  551  Yuc 551        Yucaipa  FSAB   \n",
       "4  268468.743671 -438277.850908         5  552  Yuc 552       Crafton    FSA   \n",
       "\n",
       "  UNIT          COUNTY  OWNER FUNDING STAFFING            ADDRESS      CITY  \\\n",
       "0  BDU  San Bernardino   CITY       A        V     26974 Baseline  Highland   \n",
       "1  BDU  San Bernardino   CITY       A        P     29507 Baseline  Highland   \n",
       "2  BDU  San Bernardino   CITY       A        P  7649 Sterling Ave  Highland   \n",
       "3  BDU  San Bernardino  STATE       C        P    11416 Bryant St   Yucaipa   \n",
       "4  BDU  San Bernardino   CITY       A        P   32664 Yucaipa Bl   Yucaipa   \n",
       "\n",
       "     ZIP     PHONE_NUM        LAT         LON  \n",
       "0  92346  909-862-3031  34.121425 -117.216078  \n",
       "1  92346  909-862-1760  34.120931 -117.159705  \n",
       "2  92410  909-884-4100  34.114755 -117.243506  \n",
       "3  92399  909-797-1000  34.046457 -117.034721  \n",
       "4  92399  909-797-2313  34.034005 -117.092308  "
      ]
     },
     "execution_count": 4,
     "metadata": {},
     "output_type": "execute_result"
    }
   ],
   "source": [
    "# Load the data\n",
    "file_path2 = Path(\"Resources/CAL_FIRE_Facilities_for_Wildland_Fire_Protection.csv\")\n",
    "df_dataset2 = pd.read_csv(file_path2)\n",
    "#df_dataset2 = df_dataset2[[\"Y\",\"OBJECTID\"]].copy()\n",
    "df_dataset2.head()"
   ]
  },
  {
   "cell_type": "code",
   "execution_count": 5,
   "id": "7308302a",
   "metadata": {},
   "outputs": [],
   "source": [
    "# Separate the Features (X) from the Target (y)\n",
    "y = df_dataset1[\"fire_size_class\"]\n",
    "X = df_dataset1.drop(columns=\"fire_size_class\")"
   ]
  },
  {
   "cell_type": "code",
   "execution_count": 6,
   "id": "ff72074f",
   "metadata": {},
   "outputs": [
    {
     "data": {
      "text/plain": [
       "(41525, 7)"
      ]
     },
     "execution_count": 6,
     "metadata": {},
     "output_type": "execute_result"
    }
   ],
   "source": [
    "# Split our data into training and testing\n",
    "X_train, X_test, y_train, y_test = train_test_split(X, \n",
    "                                                    y, \n",
    "                                                    random_state=4, \n",
    "                                                    stratify=y)\n",
    "X_train.shape\n"
   ]
  },
  {
   "cell_type": "code",
   "execution_count": 7,
   "id": "9fe8aa90",
   "metadata": {},
   "outputs": [],
   "source": [
    "# Create a Logistic Regression Model\n",
    "classifier = LogisticRegression(solver='lbfgs',\n",
    "                                max_iter=200,\n",
    "                                random_state=4)"
   ]
  },
  {
   "cell_type": "code",
   "execution_count": 8,
   "id": "498a1ada",
   "metadata": {},
   "outputs": [
    {
     "name": "stderr",
     "output_type": "stream",
     "text": [
      "/Users/remiharazim/opt/anaconda3/envs/mlenv/lib/python3.7/site-packages/sklearn/linear_model/_logistic.py:818: ConvergenceWarning: lbfgs failed to converge (status=1):\n",
      "STOP: TOTAL NO. of ITERATIONS REACHED LIMIT.\n",
      "\n",
      "Increase the number of iterations (max_iter) or scale the data as shown in:\n",
      "    https://scikit-learn.org/stable/modules/preprocessing.html\n",
      "Please also refer to the documentation for alternative solver options:\n",
      "    https://scikit-learn.org/stable/modules/linear_model.html#logistic-regression\n",
      "  extra_warning_msg=_LOGISTIC_SOLVER_CONVERGENCE_MSG,\n"
     ]
    },
    {
     "data": {
      "text/plain": [
       "LogisticRegression(max_iter=200, random_state=4)"
      ]
     },
     "execution_count": 8,
     "metadata": {},
     "output_type": "execute_result"
    }
   ],
   "source": [
    "# Fit (train) or model using the training data\n",
    "classifier.fit(X_train, y_train)"
   ]
  },
  {
   "cell_type": "code",
   "execution_count": 9,
   "id": "fc0c9d54",
   "metadata": {},
   "outputs": [
    {
     "data": {
      "text/html": [
       "<div>\n",
       "<style scoped>\n",
       "    .dataframe tbody tr th:only-of-type {\n",
       "        vertical-align: middle;\n",
       "    }\n",
       "\n",
       "    .dataframe tbody tr th {\n",
       "        vertical-align: top;\n",
       "    }\n",
       "\n",
       "    .dataframe thead th {\n",
       "        text-align: right;\n",
       "    }\n",
       "</style>\n",
       "<table border=\"1\" class=\"dataframe\">\n",
       "  <thead>\n",
       "    <tr style=\"text-align: right;\">\n",
       "      <th></th>\n",
       "      <th>Prediction</th>\n",
       "      <th>Actual</th>\n",
       "    </tr>\n",
       "  </thead>\n",
       "  <tbody>\n",
       "    <tr>\n",
       "      <th>0</th>\n",
       "      <td>F</td>\n",
       "      <td>G</td>\n",
       "    </tr>\n",
       "    <tr>\n",
       "      <th>1</th>\n",
       "      <td>G</td>\n",
       "      <td>B</td>\n",
       "    </tr>\n",
       "    <tr>\n",
       "      <th>2</th>\n",
       "      <td>C</td>\n",
       "      <td>B</td>\n",
       "    </tr>\n",
       "    <tr>\n",
       "      <th>3</th>\n",
       "      <td>B</td>\n",
       "      <td>C</td>\n",
       "    </tr>\n",
       "    <tr>\n",
       "      <th>4</th>\n",
       "      <td>B</td>\n",
       "      <td>B</td>\n",
       "    </tr>\n",
       "    <tr>\n",
       "      <th>5</th>\n",
       "      <td>B</td>\n",
       "      <td>B</td>\n",
       "    </tr>\n",
       "    <tr>\n",
       "      <th>6</th>\n",
       "      <td>B</td>\n",
       "      <td>B</td>\n",
       "    </tr>\n",
       "    <tr>\n",
       "      <th>7</th>\n",
       "      <td>B</td>\n",
       "      <td>B</td>\n",
       "    </tr>\n",
       "    <tr>\n",
       "      <th>8</th>\n",
       "      <td>G</td>\n",
       "      <td>G</td>\n",
       "    </tr>\n",
       "    <tr>\n",
       "      <th>9</th>\n",
       "      <td>B</td>\n",
       "      <td>C</td>\n",
       "    </tr>\n",
       "    <tr>\n",
       "      <th>10</th>\n",
       "      <td>B</td>\n",
       "      <td>B</td>\n",
       "    </tr>\n",
       "    <tr>\n",
       "      <th>11</th>\n",
       "      <td>B</td>\n",
       "      <td>B</td>\n",
       "    </tr>\n",
       "    <tr>\n",
       "      <th>12</th>\n",
       "      <td>B</td>\n",
       "      <td>B</td>\n",
       "    </tr>\n",
       "    <tr>\n",
       "      <th>13</th>\n",
       "      <td>C</td>\n",
       "      <td>C</td>\n",
       "    </tr>\n",
       "    <tr>\n",
       "      <th>14</th>\n",
       "      <td>G</td>\n",
       "      <td>B</td>\n",
       "    </tr>\n",
       "    <tr>\n",
       "      <th>15</th>\n",
       "      <td>B</td>\n",
       "      <td>B</td>\n",
       "    </tr>\n",
       "    <tr>\n",
       "      <th>16</th>\n",
       "      <td>B</td>\n",
       "      <td>B</td>\n",
       "    </tr>\n",
       "    <tr>\n",
       "      <th>17</th>\n",
       "      <td>G</td>\n",
       "      <td>C</td>\n",
       "    </tr>\n",
       "    <tr>\n",
       "      <th>18</th>\n",
       "      <td>C</td>\n",
       "      <td>B</td>\n",
       "    </tr>\n",
       "    <tr>\n",
       "      <th>19</th>\n",
       "      <td>B</td>\n",
       "      <td>B</td>\n",
       "    </tr>\n",
       "  </tbody>\n",
       "</table>\n",
       "</div>"
      ],
      "text/plain": [
       "   Prediction Actual\n",
       "0           F      G\n",
       "1           G      B\n",
       "2           C      B\n",
       "3           B      C\n",
       "4           B      B\n",
       "5           B      B\n",
       "6           B      B\n",
       "7           B      B\n",
       "8           G      G\n",
       "9           B      C\n",
       "10          B      B\n",
       "11          B      B\n",
       "12          B      B\n",
       "13          C      C\n",
       "14          G      B\n",
       "15          B      B\n",
       "16          B      B\n",
       "17          G      C\n",
       "18          C      B\n",
       "19          B      B"
      ]
     },
     "execution_count": 9,
     "metadata": {},
     "output_type": "execute_result"
    }
   ],
   "source": [
    "# Make predictions\n",
    "y_pred = classifier.predict(X_test)\n",
    "results = pd.DataFrame({\"Prediction\": y_pred, \"Actual\": y_test}).reset_index(drop=True)\n",
    "results.head(20)"
   ]
  },
  {
   "cell_type": "code",
   "execution_count": 10,
   "id": "b2887c4d",
   "metadata": {},
   "outputs": [
    {
     "name": "stdout",
     "output_type": "stream",
     "text": [
      "0.8649039156191302\n"
     ]
    }
   ],
   "source": [
    "# Print the balanced accuracy score\n",
    "print(accuracy_score(y_test, y_pred))"
   ]
  },
  {
   "cell_type": "code",
   "execution_count": 14,
   "id": "9a27a81a",
   "metadata": {},
   "outputs": [
    {
     "name": "stdout",
     "output_type": "stream",
     "text": [
      "This is a conflict\n"
     ]
    }
   ],
   "source": [
    "print(\"This is a conflict\")"
   ]
  },
  {
   "cell_type": "code",
   "execution_count": 15,
   "id": "3d0645bd",
   "metadata": {},
   "outputs": [
    {
     "name": "stdout",
     "output_type": "stream",
     "text": [
      "This is a also conflict\n"
     ]
    }
   ],
   "source": [
    "print(\"This is a also conflict\")"
   ]
  },
  {
   "cell_type": "code",
   "execution_count": 16,
   "id": "99b91ea3",
   "metadata": {},
   "outputs": [
    {
     "name": "stdout",
     "output_type": "stream",
     "text": [
      "This is a really bad conflict\n"
     ]
    }
   ],
   "source": [
    "print(\"This is a really bad conflict\")"
   ]
  },
  {
   "cell_type": "code",
   "execution_count": 11,
   "id": "290f89de",
   "metadata": {},
   "outputs": [
    {
     "name": "stdout",
     "output_type": "stream",
     "text": [
      "[[8396  242   39    2   53  399]\n",
      " [ 355 2129   42    5   14  158]\n",
      " [   0  115  167   13   22   31]\n",
      " [   0    0   58   65   39   13]\n",
      " [   0    0    0   22  291  179]\n",
      " [   0    0    0    0   69  924]]\n"
     ]
    }
   ],
   "source": [
    "# Print the confusion matrix\n",
    "matrix = confusion_matrix(y_test, y_pred)\n",
    "print(matrix)"
   ]
  },
  {
   "cell_type": "code",
   "execution_count": 12,
   "id": "cebba4fb",
   "metadata": {},
   "outputs": [
    {
     "name": "stdout",
     "output_type": "stream",
     "text": [
      "              precision    recall  f1-score   support\n",
      "\n",
      "           B       0.96      0.92      0.94      9131\n",
      "           C       0.86      0.79      0.82      2703\n",
      "           D       0.55      0.48      0.51       348\n",
      "           E       0.61      0.37      0.46       175\n",
      "           F       0.60      0.59      0.59       492\n",
      "           G       0.54      0.93      0.69       993\n",
      "\n",
      "    accuracy                           0.86     13842\n",
      "   macro avg       0.68      0.68      0.67     13842\n",
      "weighted avg       0.88      0.86      0.87     13842\n",
      "\n"
     ]
    }
   ],
   "source": [
    "# Print the classification report\n",
    "report = classification_report(y_test, y_pred)\n",
    "print(report)"
   ]
  },
  {
   "cell_type": "code",
   "execution_count": null,
   "id": "3604f9fb",
   "metadata": {},
   "outputs": [],
   "source": [
    "print(\"This is a conflict\")"
   ]
  }
 ],
 "metadata": {
  "kernelspec": {
   "display_name": "mlenv",
   "language": "python",
   "name": "mlenv"
  },
  "language_info": {
   "codemirror_mode": {
    "name": "ipython",
    "version": 3
   },
   "file_extension": ".py",
   "mimetype": "text/x-python",
   "name": "python",
   "nbconvert_exporter": "python",
   "pygments_lexer": "ipython3",
   "version": "3.7.7"
  }
 },
 "nbformat": 4,
 "nbformat_minor": 5
}
