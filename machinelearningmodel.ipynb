{
 "cells": [
  {
   "cell_type": "code",
   "execution_count": 2,
   "id": "b0fe111a",
   "metadata": {},
   "outputs": [],
   "source": [
    "import pandas as pd"
   ]
  },
  {
   "cell_type": "code",
   "execution_count": 6,
   "id": "63bbdadc",
   "metadata": {},
   "outputs": [
    {
     "data": {
      "text/html": [
       "<div>\n",
       "<style scoped>\n",
       "    .dataframe tbody tr th:only-of-type {\n",
       "        vertical-align: middle;\n",
       "    }\n",
       "\n",
       "    .dataframe tbody tr th {\n",
       "        vertical-align: top;\n",
       "    }\n",
       "\n",
       "    .dataframe thead th {\n",
       "        text-align: right;\n",
       "    }\n",
       "</style>\n",
       "<table border=\"1\" class=\"dataframe\">\n",
       "  <thead>\n",
       "    <tr style=\"text-align: right;\">\n",
       "      <th></th>\n",
       "      <th>X</th>\n",
       "      <th>Y</th>\n",
       "      <th>OBJECTID</th>\n",
       "      <th>NAME</th>\n",
       "      <th>CAD_NAME</th>\n",
       "      <th>AKA</th>\n",
       "      <th>TYPE</th>\n",
       "      <th>UNIT</th>\n",
       "      <th>COUNTY</th>\n",
       "      <th>OWNER</th>\n",
       "      <th>FUNDING</th>\n",
       "      <th>STAFFING</th>\n",
       "      <th>ADDRESS</th>\n",
       "      <th>CITY</th>\n",
       "      <th>ZIP</th>\n",
       "      <th>PHONE_NUM</th>\n",
       "      <th>LAT</th>\n",
       "      <th>LON</th>\n",
       "    </tr>\n",
       "  </thead>\n",
       "  <tbody>\n",
       "    <tr>\n",
       "      <th>0</th>\n",
       "      <td>256759.612298</td>\n",
       "      <td>-428927.360971</td>\n",
       "      <td>1</td>\n",
       "      <td>541</td>\n",
       "      <td>HIG 541</td>\n",
       "      <td>Highland</td>\n",
       "      <td>FSA</td>\n",
       "      <td>BDU</td>\n",
       "      <td>San Bernardino</td>\n",
       "      <td>CITY</td>\n",
       "      <td>A</td>\n",
       "      <td>V</td>\n",
       "      <td>26974 Baseline</td>\n",
       "      <td>Highland</td>\n",
       "      <td>92346</td>\n",
       "      <td>909-862-3031</td>\n",
       "      <td>34.121425</td>\n",
       "      <td>-117.216078</td>\n",
       "    </tr>\n",
       "    <tr>\n",
       "      <th>1</th>\n",
       "      <td>261958.958369</td>\n",
       "      <td>-428827.963225</td>\n",
       "      <td>2</td>\n",
       "      <td>542</td>\n",
       "      <td>HIG 542</td>\n",
       "      <td>East Highland</td>\n",
       "      <td>FSA</td>\n",
       "      <td>BDU</td>\n",
       "      <td>San Bernardino</td>\n",
       "      <td>CITY</td>\n",
       "      <td>A</td>\n",
       "      <td>P</td>\n",
       "      <td>29507 Baseline</td>\n",
       "      <td>Highland</td>\n",
       "      <td>92346</td>\n",
       "      <td>909-862-1760</td>\n",
       "      <td>34.120931</td>\n",
       "      <td>-117.159705</td>\n",
       "    </tr>\n",
       "    <tr>\n",
       "      <th>2</th>\n",
       "      <td>254252.194732</td>\n",
       "      <td>-429740.897461</td>\n",
       "      <td>3</td>\n",
       "      <td>543</td>\n",
       "      <td>HIG 543</td>\n",
       "      <td>Sterling</td>\n",
       "      <td>FSA</td>\n",
       "      <td>BDU</td>\n",
       "      <td>San Bernardino</td>\n",
       "      <td>CITY</td>\n",
       "      <td>A</td>\n",
       "      <td>P</td>\n",
       "      <td>7649 Sterling Ave</td>\n",
       "      <td>Highland</td>\n",
       "      <td>92410</td>\n",
       "      <td>909-884-4100</td>\n",
       "      <td>34.114755</td>\n",
       "      <td>-117.243506</td>\n",
       "    </tr>\n",
       "    <tr>\n",
       "      <th>3</th>\n",
       "      <td>273740.896608</td>\n",
       "      <td>-436732.555790</td>\n",
       "      <td>4</td>\n",
       "      <td>551</td>\n",
       "      <td>Yuc 551</td>\n",
       "      <td>Yucaipa</td>\n",
       "      <td>FSAB</td>\n",
       "      <td>BDU</td>\n",
       "      <td>San Bernardino</td>\n",
       "      <td>STATE</td>\n",
       "      <td>C</td>\n",
       "      <td>P</td>\n",
       "      <td>11416 Bryant St</td>\n",
       "      <td>Yucaipa</td>\n",
       "      <td>92399</td>\n",
       "      <td>909-797-1000</td>\n",
       "      <td>34.046457</td>\n",
       "      <td>-117.034721</td>\n",
       "    </tr>\n",
       "    <tr>\n",
       "      <th>4</th>\n",
       "      <td>268468.743671</td>\n",
       "      <td>-438277.850908</td>\n",
       "      <td>5</td>\n",
       "      <td>552</td>\n",
       "      <td>Yuc 552</td>\n",
       "      <td>Crafton</td>\n",
       "      <td>FSA</td>\n",
       "      <td>BDU</td>\n",
       "      <td>San Bernardino</td>\n",
       "      <td>CITY</td>\n",
       "      <td>A</td>\n",
       "      <td>P</td>\n",
       "      <td>32664 Yucaipa Bl</td>\n",
       "      <td>Yucaipa</td>\n",
       "      <td>92399</td>\n",
       "      <td>909-797-2313</td>\n",
       "      <td>34.034005</td>\n",
       "      <td>-117.092308</td>\n",
       "    </tr>\n",
       "  </tbody>\n",
       "</table>\n",
       "</div>"
      ],
      "text/plain": [
       "               X              Y  OBJECTID NAME CAD_NAME            AKA  TYPE  \\\n",
       "0  256759.612298 -428927.360971         1  541  HIG 541       Highland   FSA   \n",
       "1  261958.958369 -428827.963225         2  542  HIG 542  East Highland   FSA   \n",
       "2  254252.194732 -429740.897461         3  543  HIG 543       Sterling   FSA   \n",
       "3  273740.896608 -436732.555790         4  551  Yuc 551        Yucaipa  FSAB   \n",
       "4  268468.743671 -438277.850908         5  552  Yuc 552       Crafton    FSA   \n",
       "\n",
       "  UNIT          COUNTY  OWNER FUNDING STAFFING            ADDRESS      CITY  \\\n",
       "0  BDU  San Bernardino   CITY       A        V     26974 Baseline  Highland   \n",
       "1  BDU  San Bernardino   CITY       A        P     29507 Baseline  Highland   \n",
       "2  BDU  San Bernardino   CITY       A        P  7649 Sterling Ave  Highland   \n",
       "3  BDU  San Bernardino  STATE       C        P    11416 Bryant St   Yucaipa   \n",
       "4  BDU  San Bernardino   CITY       A        P   32664 Yucaipa Bl   Yucaipa   \n",
       "\n",
       "     ZIP     PHONE_NUM        LAT         LON  \n",
       "0  92346  909-862-3031  34.121425 -117.216078  \n",
       "1  92346  909-862-1760  34.120931 -117.159705  \n",
       "2  92410  909-884-4100  34.114755 -117.243506  \n",
       "3  92399  909-797-1000  34.046457 -117.034721  \n",
       "4  92399  909-797-2313  34.034005 -117.092308  "
      ]
     },
     "execution_count": 6,
     "metadata": {},
     "output_type": "execute_result"
    }
   ],
   "source": [
    "file_path = \"Resources/CAL_FIRE_Facilities_for_Wildland_Fire_Protection.csv\"\n",
    "FireFacilities_df = pd.read_csv(file_path)\n",
    "FireFacilities_df.head()\n"
   ]
  },
  {
   "cell_type": "code",
   "execution_count": 7,
   "id": "a1bc100e",
   "metadata": {},
   "outputs": [
    {
     "name": "stdout",
     "output_type": "stream",
     "text": [
      "X\n",
      "Y\n",
      "OBJECTID\n",
      "NAME\n",
      "CAD_NAME\n",
      "AKA\n",
      "TYPE\n",
      "UNIT\n",
      "COUNTY\n",
      "OWNER\n",
      "FUNDING\n",
      "STAFFING\n",
      "ADDRESS\n",
      "CITY\n",
      "ZIP\n",
      "PHONE_NUM\n",
      "LAT\n",
      "LON\n"
     ]
    }
   ],
   "source": [
    "for col in FireFacilities_df.columns:\n",
    "    print(col)"
   ]
  },
  {
   "cell_type": "code",
   "execution_count": 11,
   "id": "82c5e759",
   "metadata": {},
   "outputs": [
    {
     "name": "stderr",
     "output_type": "stream",
     "text": [
      "C:\\Users\\Julia\\anaconda3\\envs\\mlenv\\lib\\site-packages\\ipykernel_launcher.py:1: FutureWarning: In a future version of pandas all arguments of DataFrame.drop except for the argument 'labels' will be keyword-only\n",
      "  \"\"\"Entry point for launching an IPython kernel.\n"
     ]
    },
    {
     "ename": "TypeError",
     "evalue": "drop() got multiple values for argument 'axis'",
     "output_type": "error",
     "traceback": [
      "\u001b[1;31m---------------------------------------------------------------------------\u001b[0m",
      "\u001b[1;31mTypeError\u001b[0m                                 Traceback (most recent call last)",
      "\u001b[1;32m~\\AppData\\Local\\Temp/ipykernel_972/173465118.py\u001b[0m in \u001b[0;36m<module>\u001b[1;34m\u001b[0m\n\u001b[1;32m----> 1\u001b[1;33m \u001b[0mFireFacilities_df\u001b[0m\u001b[1;33m.\u001b[0m\u001b[0mdrop\u001b[0m\u001b[1;33m(\u001b[0m\u001b[1;34m'PHONE_NUM'\u001b[0m\u001b[1;33m,\u001b[0m \u001b[1;34m'ADDRESS'\u001b[0m\u001b[1;33m,\u001b[0m \u001b[1;34m'ZIP'\u001b[0m\u001b[1;33m,\u001b[0m \u001b[1;34m'UNIT'\u001b[0m\u001b[1;33m,\u001b[0m \u001b[0maxis\u001b[0m\u001b[1;33m=\u001b[0m\u001b[1;36m4\u001b[0m\u001b[1;33m,\u001b[0m \u001b[0minplace\u001b[0m\u001b[1;33m=\u001b[0m\u001b[1;32mTrue\u001b[0m\u001b[1;33m)\u001b[0m\u001b[1;33m\u001b[0m\u001b[1;33m\u001b[0m\u001b[0m\n\u001b[0m",
      "\u001b[1;32m~\\anaconda3\\envs\\mlenv\\lib\\site-packages\\pandas\\util\\_decorators.py\u001b[0m in \u001b[0;36mwrapper\u001b[1;34m(*args, **kwargs)\u001b[0m\n\u001b[0;32m    309\u001b[0m                     \u001b[0mstacklevel\u001b[0m\u001b[1;33m=\u001b[0m\u001b[0mstacklevel\u001b[0m\u001b[1;33m,\u001b[0m\u001b[1;33m\u001b[0m\u001b[1;33m\u001b[0m\u001b[0m\n\u001b[0;32m    310\u001b[0m                 )\n\u001b[1;32m--> 311\u001b[1;33m             \u001b[1;32mreturn\u001b[0m \u001b[0mfunc\u001b[0m\u001b[1;33m(\u001b[0m\u001b[1;33m*\u001b[0m\u001b[0margs\u001b[0m\u001b[1;33m,\u001b[0m \u001b[1;33m**\u001b[0m\u001b[0mkwargs\u001b[0m\u001b[1;33m)\u001b[0m\u001b[1;33m\u001b[0m\u001b[1;33m\u001b[0m\u001b[0m\n\u001b[0m\u001b[0;32m    312\u001b[0m \u001b[1;33m\u001b[0m\u001b[0m\n\u001b[0;32m    313\u001b[0m         \u001b[1;32mreturn\u001b[0m \u001b[0mwrapper\u001b[0m\u001b[1;33m\u001b[0m\u001b[1;33m\u001b[0m\u001b[0m\n",
      "\u001b[1;31mTypeError\u001b[0m: drop() got multiple values for argument 'axis'"
     ]
    }
   ],
   "source": [
    "FireFacilities_df.drop('PHONE_NUM', 'ADDRESS', 'ZIP', 'UNIT', axis=4, inplace=True)"
   ]
  },
  {
   "cell_type": "code",
   "execution_count": 9,
   "id": "1a1f5ad1",
   "metadata": {},
   "outputs": [
    {
     "name": "stdout",
     "output_type": "stream",
     "text": [
      "X\n",
      "Y\n",
      "OBJECTID\n",
      "NAME\n",
      "CAD_NAME\n",
      "AKA\n",
      "TYPE\n",
      "UNIT\n",
      "COUNTY\n",
      "OWNER\n",
      "FUNDING\n",
      "STAFFING\n",
      "ADDRESS\n",
      "CITY\n",
      "ZIP\n",
      "LAT\n",
      "LON\n"
     ]
    }
   ],
   "source": [
    "for col in FireFacilities_df.columns:\n",
    "    print(col)"
   ]
  },
  {
   "cell_type": "code",
   "execution_count": null,
   "id": "1ef9127e",
   "metadata": {},
   "outputs": [],
   "source": []
  }
 ],
 "metadata": {
  "kernelspec": {
   "display_name": "mlenv",
   "language": "python",
   "name": "mlenv"
  },
  "language_info": {
   "codemirror_mode": {
    "name": "ipython",
    "version": 3
   },
   "file_extension": ".py",
   "mimetype": "text/x-python",
   "name": "python",
   "nbconvert_exporter": "python",
   "pygments_lexer": "ipython3",
   "version": "3.7.11"
  }
 },
 "nbformat": 4,
 "nbformat_minor": 5
}
